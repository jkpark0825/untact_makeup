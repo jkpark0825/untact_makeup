{
 "cells": [
  {
   "cell_type": "code",
   "execution_count": 27,
   "metadata": {},
   "outputs": [
    {
     "name": "stdout",
     "output_type": "stream",
     "text": [
      "WARNING:tensorflow:No training configuration found in the save file, so the model was *not* compiled. Compile it manually.\n",
      "[[0.00056704 0.         0.9985436  0.0008827  0.0000067 ]]\n"
     ]
    }
   ],
   "source": [
    "import tensorflow.keras\n",
    "from PIL import Image, ImageOps\n",
    "import numpy as np\n",
    "np.set_printoptions(suppress=True)\n",
    "model = tensorflow.keras.models.load_model('faceshape_model/keras_model.h5')\n",
    "data = np.ndarray(shape=(1, 224, 224, 3), dtype=np.float32)\n",
    "image = Image.open('eye1.jpg')\n",
    "\n",
    "size = (224, 224)\n",
    "image = ImageOps.fit(image, size, Image.ANTIALIAS)\n",
    "image_array = np.asarray(image)\n",
    "\n",
    "\n",
    "normalized_image_array = (image_array.astype(np.float32) / 127.0) - 1\n",
    "data[0] = normalized_image_array\n",
    "prediction = model.predict(data)\n",
    "print(prediction)"
   ]
  },
  {
   "cell_type": "code",
   "execution_count": 28,
   "metadata": {},
   "outputs": [],
   "source": [
    "max = prediction[0][0]\n",
    "idx=0\n",
    "for i in range(1,len(prediction[0])):\n",
    "    if prediction[0][i]>max:\n",
    "        max = prediction[0][i]\n",
    "        idx=i"
   ]
  },
  {
   "cell_type": "code",
   "execution_count": 29,
   "metadata": {},
   "outputs": [],
   "source": [
    "classes=['Heart', 'Oblong', 'Oval', 'Round','Square']"
   ]
  },
  {
   "cell_type": "code",
   "execution_count": 30,
   "metadata": {},
   "outputs": [
    {
     "name": "stdout",
     "output_type": "stream",
     "text": [
      "OVal face\n",
      "\n"
     ]
    }
   ],
   "source": [
    "if idx ==0:\n",
    "    print(\"Heart face\")\n",
    "elif idx==1:\n",
    "    print(\"Oblong face\")\n",
    "elif idx==2:\n",
    "    print(\"OVal face\\n\") #눈썹을 너무 진하게 칠하지 않고 하이라이터\\n를 이용해서 콧대 광대 턱 부분을 가볍게 칠합니다.\")\n",
    "elif idx==3:\n",
    "    print(\"Round face\\n눈썹을\")\n",
    "elif idx==4:\n",
    "    print(\"Square face\")\n"
   ]
  },
  {
   "cell_type": "code",
   "execution_count": 33,
   "metadata": {},
   "outputs": [],
   "source": []
  },
  {
   "cell_type": "code",
   "execution_count": null,
   "metadata": {},
   "outputs": [],
   "source": []
  },
  {
   "cell_type": "code",
   "execution_count": null,
   "metadata": {},
   "outputs": [],
   "source": []
  }
 ],
 "metadata": {
  "kernelspec": {
   "display_name": "PyTorch",
   "language": "python",
   "name": "pytorch"
  },
  "language_info": {
   "codemirror_mode": {
    "name": "ipython",
    "version": 3
   },
   "file_extension": ".py",
   "mimetype": "text/x-python",
   "name": "python",
   "nbconvert_exporter": "python",
   "pygments_lexer": "ipython3",
   "version": "3.8.3"
  }
 },
 "nbformat": 4,
 "nbformat_minor": 4
}
