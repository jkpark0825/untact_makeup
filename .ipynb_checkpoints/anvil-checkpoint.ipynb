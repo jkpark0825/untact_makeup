{
 "cells": [
  {
   "cell_type": "code",
   "execution_count": 1,
   "metadata": {},
   "outputs": [
    {
     "name": "stdout",
     "output_type": "stream",
     "text": [
      "INFO:tensorflow:Restoring parameters from models\\model\n",
      "INFO:tensorflow:Restoring parameters from models\\model\n",
      "Connecting to wss://anvil.works/uplink\n",
      "Anvil websocket open\n",
      "Authenticated OK\n"
     ]
    }
   ],
   "source": [
    "import cv2\n",
    "import full_makeup\n",
    "import align_faces\n",
    "import dlib\n",
    "import os\n",
    "import anvil.media\n",
    "import test_makeup\n",
    "import numpy as np\n",
    "import pandas as pd\n",
    "from keras.preprocessing.image import ImageDataGenerator, load_img, img_to_array\n",
    "import PIL\n",
    "detector = dlib.get_frontal_face_detector()\n",
    "from flask import Flask, flash, Response, request, redirect, url_for, render_template\n",
    "import anvil.mpl_util\n",
    "from werkzeug.utils import secure_filename\n",
    "import anvil.server\n",
    "import matplotlib.pyplot as plt\n",
    "\n",
    "anvil.server.connect(\"MJMEIV5QDCPHS7QJWRX2T5RL-Y27OSAFA2M6G67CV\")"
   ]
  },
  {
   "cell_type": "code",
   "execution_count": null,
   "metadata": {},
   "outputs": [],
   "source": []
  },
  {
   "cell_type": "code",
   "execution_count": 2,
   "metadata": {},
   "outputs": [],
   "source": [
    "def full_makeup(your_image = None, skin_image = None, lip_image=None,eye_image=None):  # generate frame by frame from camera\n",
    "    a=0   #img로 다 넣기\n",
    "    frame = cv2.resize(your_image,(int(256),int(256)))\n",
    "    temp = frame[:,:,::-1].copy()\n",
    "    dets = detector(temp, 1)\n",
    "    if len(dets) != 0:\n",
    "        temp_face = align_faces.align_faces(temp)\n",
    "        src_img = temp_face[0]\n",
    "        faces1 = detector(src_img,1)\n",
    "        if len(faces1) !=0:\n",
    "            frame, final_output_no, makeup_frame =test_makeup.full_makeup(frame ,skin_image, lip_image, eye_image)\n",
    "            return(makeup_frame)  # concat frame one by one and show result\n",
    "        else:\n",
    "            if a == 0:\n",
    "                return(frame)# concat frame one by one and show result\n",
    "            else:\n",
    "                return(makeup_frame)\n",
    "    else:\n",
    "        if a == 0:\n",
    "            return(frame)\n",
    "        else:\n",
    "            return(makeup_frame)\n",
    "\n",
    "\n",
    "@anvil.server.callable\n",
    "def makeup(your_face, file_skin, file_lip, file_eye):\n",
    "    with anvil.media.TempFile(your_face) as your_facename:\n",
    "        with anvil.media.TempFile(file_skin) as file_skinname:\n",
    "            with anvil.media.TempFile(file_lip) as file_lipname:\n",
    "                with anvil.media.TempFile(file_eye) as file_eyename:\n",
    "                    img_you = cv2.imread(your_facename)\n",
    "                    img_skin= cv2.imread(file_skinname)\n",
    "                    img_lip = cv2.imread(file_lipname)\n",
    "                    img_eye =cv2.imread(file_eyename)\n",
    "    result = full_makeup(img_you,img_skin,img_lip,img_eye)\n",
    "    plt.axis('off')\n",
    "    plt.imshow(result[:,:,::-1])\n",
    "    return anvil.mpl_util.plot_image()\n"
   ]
  },
  {
   "cell_type": "code",
   "execution_count": null,
   "metadata": {},
   "outputs": [],
   "source": [
    "#https://untact-makeup-jk.anvil.app/"
   ]
  },
  {
   "cell_type": "code",
   "execution_count": null,
   "metadata": {},
   "outputs": [],
   "source": []
  },
  {
   "cell_type": "code",
   "execution_count": null,
   "metadata": {},
   "outputs": [],
   "source": []
  },
  {
   "cell_type": "code",
   "execution_count": null,
   "metadata": {},
   "outputs": [],
   "source": []
  },
  {
   "cell_type": "code",
   "execution_count": null,
   "metadata": {},
   "outputs": [],
   "source": []
  },
  {
   "cell_type": "code",
   "execution_count": null,
   "metadata": {},
   "outputs": [],
   "source": []
  }
 ],
 "metadata": {
  "kernelspec": {
   "display_name": "PyTorch",
   "language": "python",
   "name": "pytorch"
  },
  "language_info": {
   "codemirror_mode": {
    "name": "ipython",
    "version": 3
   },
   "file_extension": ".py",
   "mimetype": "text/x-python",
   "name": "python",
   "nbconvert_exporter": "python",
   "pygments_lexer": "ipython3",
   "version": "3.8.3"
  }
 },
 "nbformat": 4,
 "nbformat_minor": 4
}
