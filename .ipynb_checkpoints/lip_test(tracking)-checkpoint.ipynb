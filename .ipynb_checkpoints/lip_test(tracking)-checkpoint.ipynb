{
 "cells": [
  {
   "cell_type": "code",
   "execution_count": 1,
   "metadata": {},
   "outputs": [
    {
     "name": "stdout",
     "output_type": "stream",
     "text": [
      "INFO:tensorflow:Restoring parameters from models\\model\n"
     ]
    }
   ],
   "source": [
    "import dlib\n",
    "import matplotlib.pyplot as plt\n",
    "import matplotlib.patches as patches\n",
    "#import tensorflow as tf\n",
    "import tensorflow.compat.v1 as tf\n",
    "import numpy as np\n",
    "detector = dlib.get_frontal_face_detector()\n",
    "sp = dlib.shape_predictor('shape_predictor_68_face_landmarks.dat')\n",
    "predictor = sp\n",
    "img = dlib.load_rgb_image('makeup3.jpg')\n",
    "img_result = img.copy()\n",
    "\n",
    "dets = detector(img, 1)\n",
    "\n",
    "if len(dets) == 0:\n",
    "    print('cannot find faces!')\n",
    "\n",
    "objs = dlib.full_object_detections()\n",
    "\n",
    "for detection in dets:\n",
    "    s = sp(img, detection)\n",
    "    objs.append(s)\n",
    "    \n",
    "    for point in s.parts():\n",
    "        circle = patches.Circle((point.x, point.y), radius=3, edgecolor='r', facecolor='r')\n",
    "def align_faces(img):\n",
    "    dets = detector(img, 1)\n",
    "    \n",
    "    objs = dlib.full_object_detections()\n",
    "\n",
    "    for detection in dets:\n",
    "        s = sp(img, detection)\n",
    "        objs.append(s)\n",
    "        \n",
    "    faces = dlib.get_face_chips(img, objs, size=256, padding=0.35)\n",
    "    \n",
    "    return faces\n",
    "sess = tf.Session()\n",
    "#sess.run(tf.global_variables_initializer())\n",
    "tf.disable_eager_execution()\n",
    "saver = tf.train.import_meta_graph('models/model.meta')\n",
    "saver.restore(sess, tf.train.latest_checkpoint('models'))\n",
    "graph = tf.get_default_graph()\n",
    "\n",
    "X = graph.get_tensor_by_name('X:0') # source\n",
    "Y = graph.get_tensor_by_name('Y:0') # reference\n",
    "Xs = graph.get_tensor_by_name('generator/xs:0') # output"
   ]
  },
  {
   "cell_type": "code",
   "execution_count": 2,
   "metadata": {},
   "outputs": [],
   "source": [
    "def preprocess(img):\n",
    "    return img.astype(np.float32) / 127.5 - 1.\n",
    "\n",
    "def postprocess(img):\n",
    "    return ((img + 1.) * 127.5).astype(np.uint8)"
   ]
  },
  {
   "cell_type": "code",
   "execution_count": 523,
   "metadata": {},
   "outputs": [],
   "source": [
    "######하이라이터###\n",
    "from collections import OrderedDict\n",
    "FACIAL_LANDMARKS_IDXS = OrderedDict([\n",
    "\t(\"mouth\", (48, 68)),\n",
    "\t#(\"right_eyebrow\", (17, 22)),\n",
    "\t#(\"left_eyebrow\", (22, 27)),\n",
    "\t#(\"right_eye\", (36, 42)),\n",
    "\t#(\"left_eye\", (42, 48)),\n",
    "\t#(\"nose\", (27, 35)),\n",
    "\t#(\"jaw\", (0, 17))\n",
    "])\n",
    "colors = [(0, 0, 0)]\n",
    "          #, (79, 76, 240), (230, 159, 23),\n",
    "          #  (168, 100, 168), (158, 163, 32),\n",
    "          #  (163, 38, 32), (180, 42, 220)]\n",
    "        \n",
    "def highligther(image, shape, colors, alpha=0.75):\n",
    "    overlay = image.copy()\n",
    "    output = image.copy()\n",
    "    for (i, name) in enumerate(FACIAL_LANDMARKS_IDXS.keys()):\n",
    "        (j, k) = FACIAL_LANDMARKS_IDXS[name]\n",
    "        pts = shape[j:k]\n",
    "        hull = cv2.convexHull(pts)\n",
    "        cv2.drawContours(overlay, [hull], -1, colors[i], -1)\n",
    "        center_a = 0\n",
    "        for j in range(len(hull)):\n",
    "            center_a = center_a+hull[j]    \n",
    "        center_maker = center_a/6\n",
    "        center_maker = [[int(center_maker[0][0]),int(center_maker[0][1])]]\n",
    "            \n",
    "    cv2.addWeighted(overlay, alpha, output, 1 - alpha, 0, output)\n",
    "    # return the output image\n",
    "    return output,center_maker"
   ]
  },
  {
   "cell_type": "code",
   "execution_count": 547,
   "metadata": {},
   "outputs": [
    {
     "name": "stdout",
     "output_type": "stream",
     "text": [
      "(256, 256, 3)\n"
     ]
    }
   ],
   "source": [
    "#makeup 사진 \n",
    "img2 = dlib.load_rgb_image('rawface1.jpg')\n",
    "img2_faces = align_faces(img2)\n",
    "ref_img = img2_faces[0]\n",
    "\n",
    "#실시간 동영상 frame\n",
    "import cv2\n",
    "cap = cv2.VideoCapture(0)\n",
    "cap.set(3,720)\n",
    "cap.set(4,1080)\n",
    "import time\n",
    "while True:\n",
    "    start = time.time()\n",
    "    ret, frame = cap.read()\n",
    "    frame = cv2.resize(frame,(int(256),int(256)))\n",
    "    temp = frame[:,:,::-1].copy()  #\n",
    "    dets = detector(temp, 1)\n",
    "    if len(dets) != 0:\n",
    "        temp_face = align_faces(temp)\n",
    "        src_img = temp_face[0]\n",
    "\n",
    "        X_img = preprocess(src_img)\n",
    "        X_img = np.expand_dims(X_img, axis=0)\n",
    "    \n",
    "        Y_img = preprocess(ref_img)\n",
    "        Y_img = np.expand_dims(Y_img, axis=0)\n",
    "    ###0.06초\n",
    "        output = sess.run(Xs, feed_dict={\n",
    "            X: X_img,\n",
    "            Y: Y_img\n",
    "        })\n",
    "        ###sess run이 오래 걸림....0.55초 정도->gpu(gtx 1080)은 약 11배 \n",
    "        output_img = postprocess(output[0])\n",
    "        final_output = output_img[:,:,::-1].copy()\n",
    "        \n",
    "        #src_img, output_img로 \n",
    "        faces1 = detector(src_img,1)\n",
    "        if len(faces1) !=0:\n",
    "            face1 = faces1[0]\n",
    "            dlib_shape = predictor(src_img,face1)\n",
    "            shape_2d = np.array([[p.x,p.y]for p in dlib_shape.parts()])\n",
    "            \n",
    "            lip_target_img, ori_col = highligther(src_img,shape_2d,colors)\n",
    "            lip_x=shape_2d[48][0]-10\n",
    "            lip_y=shape_2d[50][1]-10\n",
    "            lip_x2=shape_2d[54][0]+10\n",
    "            lip_y2=shape_2d[57][1]+10\n",
    "                    ######RGB 중 G 픽셀 값이 낮을 떄 ->살색이 아닐때를 옮기기############\n",
    "            #crop_img_s = src_img[lip_y:lip_y2,lip_x:lip_x2]\n",
    "            crop_img_s = lip_target_img[lip_y:lip_y2,lip_x:lip_x2]\n",
    "            crop_img_result = output_img[lip_y:lip_y2,lip_x:lip_x2]\n",
    "               \n",
    "            #img = lip_target_img.copy()\n",
    "            img = output_img.copy()\n",
    "            for i in range(crop_img_s.shape[0]):\n",
    "                for j in range(crop_img_s.shape[1]):\n",
    "                    if (crop_img_s)[:,:,0][i][j]<100 and (crop_img_s)[:,:,1][i][j]<100 and (crop_img_s)[:,:,2][i][j]<100:\n",
    "                        img[lip_y:lip_y2,lip_x:lip_x2][i][j] = output_img[lip_y:lip_y2,lip_x:lip_x2][i][j] +([30,30,30])\n",
    "                        #print(img)\n",
    "            #img[eye_y_l:eye_y2_l,eye_x_l:eye_x2_l] = output_img[eye_y_l:eye_y2_l,eye_x_l:eye_x2_l]-([0,0,30])\n",
    "            #final_out = highligther(img,shape_2d,colors)\n",
    "            final_out = img[:,:,::-1].copy()\n",
    "            cv2.imshow('new',final_out)\n",
    "\n",
    "        cv2.imshow('test',final_output)\n",
    "\n",
    "        key = cv2.waitKey(1)\n",
    "        #print(final_output.shape)\n",
    "        #print(time.time()-start)\n",
    "    else:\n",
    "        frame = cv2.resize(frame, (int(256), int(256)))\n",
    "        cv2.imshow('test2',frame)\n",
    "        key = cv2.waitKey(1)\n",
    "        #print(frame.shape)\n",
    "    if key==27:\n",
    "        print(frame.shape)   #480,640,3\n",
    "        break\n",
    "cap.release()\n",
    "cv2.destroyAllWindows()"
   ]
  },
  {
   "cell_type": "code",
   "execution_count": 490,
   "metadata": {},
   "outputs": [
    {
     "data": {
      "text/plain": [
       "[[125, 175]]"
      ]
     },
     "execution_count": 490,
     "metadata": {},
     "output_type": "execute_result"
    }
   ],
   "source": []
  },
  {
   "cell_type": "code",
   "execution_count": 507,
   "metadata": {},
   "outputs": [],
   "source": [
    "#ori_col\n",
    "col_ax=(ori_col[0][1],ori_col[0][0])\n",
    "#img[col_ax]    이 색이 기존의 색\n",
    "#mycolor = 내가 원하는 RGB색\n",
    "#차이를 조정"
   ]
  },
  {
   "cell_type": "code",
   "execution_count": 508,
   "metadata": {},
   "outputs": [
    {
     "data": {
      "text/plain": [
       "(175, 125)"
      ]
     },
     "execution_count": 508,
     "metadata": {},
     "output_type": "execute_result"
    }
   ],
   "source": []
  },
  {
   "cell_type": "code",
   "execution_count": 509,
   "metadata": {},
   "outputs": [
    {
     "data": {
      "text/plain": [
       "array([160, 108, 126], dtype=uint8)"
      ]
     },
     "execution_count": 509,
     "metadata": {},
     "output_type": "execute_result"
    }
   ],
   "source": [
    "img[col_ax]"
   ]
  },
  {
   "cell_type": "code",
   "execution_count": 544,
   "metadata": {},
   "outputs": [],
   "source": [
    "cv2.imshow('test3',crop_img_s)\n",
    "key = cv2.waitKey(0)\n",
    "cv2.destroyAllWindows()"
   ]
  },
  {
   "cell_type": "code",
   "execution_count": 545,
   "metadata": {},
   "outputs": [
    {
     "data": {
      "text/plain": [
       "array([[[237, 208, 194],\n",
       "        [236, 208, 192],\n",
       "        [236, 208, 192],\n",
       "        ...,\n",
       "        [225, 197, 176],\n",
       "        [224, 196, 176],\n",
       "        [224, 196, 176]],\n",
       "\n",
       "       [[237, 208, 195],\n",
       "        [236, 208, 192],\n",
       "        [235, 207, 192],\n",
       "        ...,\n",
       "        [225, 197, 176],\n",
       "        [224, 196, 176],\n",
       "        [224, 196, 176]],\n",
       "\n",
       "       [[237, 209, 195],\n",
       "        [236, 208, 193],\n",
       "        [235, 207, 192],\n",
       "        ...,\n",
       "        [225, 196, 176],\n",
       "        [224, 196, 176],\n",
       "        [224, 196, 175]],\n",
       "\n",
       "       ...,\n",
       "\n",
       "       [[211, 187, 172],\n",
       "        [210, 187, 171],\n",
       "        [209, 186, 170],\n",
       "        ...,\n",
       "        [200, 177, 158],\n",
       "        [200, 177, 157],\n",
       "        [199, 177, 157]],\n",
       "\n",
       "       [[211, 187, 172],\n",
       "        [211, 187, 172],\n",
       "        [210, 186, 171],\n",
       "        ...,\n",
       "        [199, 176, 156],\n",
       "        [199, 176, 156],\n",
       "        [198, 175, 155]],\n",
       "\n",
       "       [[211, 188, 173],\n",
       "        [211, 187, 172],\n",
       "        [211, 187, 172],\n",
       "        ...,\n",
       "        [199, 176, 155],\n",
       "        [198, 175, 154],\n",
       "        [197, 174, 154]]], dtype=uint8)"
      ]
     },
     "execution_count": 545,
     "metadata": {},
     "output_type": "execute_result"
    }
   ],
   "source": [
    "crop_img_s"
   ]
  },
  {
   "cell_type": "code",
   "execution_count": 339,
   "metadata": {},
   "outputs": [
    {
     "data": {
      "text/plain": [
       "(47, 68, 3)"
      ]
     },
     "execution_count": 339,
     "metadata": {},
     "output_type": "execute_result"
    }
   ],
   "source": [
    "crop_img_s.shape"
   ]
  },
  {
   "cell_type": "code",
   "execution_count": null,
   "metadata": {},
   "outputs": [],
   "source": []
  },
  {
   "cell_type": "code",
   "execution_count": 222,
   "metadata": {},
   "outputs": [
    {
     "name": "stdout",
     "output_type": "stream",
     "text": [
      "48\n",
      "49\n",
      "50\n",
      "51\n",
      "52\n",
      "53\n",
      "54\n",
      "55\n",
      "56\n",
      "57\n",
      "58\n",
      "59\n",
      "60\n",
      "61\n",
      "62\n",
      "63\n",
      "64\n",
      "65\n",
      "66\n",
      "67\n"
     ]
    }
   ],
   "source": [
    "img = output_img.copy() #->RGB\n",
    "for i in range(crop_img_s.shape[0]):\n",
    "                for j in range(crop_img_s.shape[1]):\n",
    "                    if (crop_result)[:,:,1][i][j]<135:#(crop_result)[:,:,0][i][j]<125:#(crop_result)[:,:,2][i][j]<200 :\n",
    "                        img[lip_y:lip_y2,lip_x:lip_x2][i][j] = ([255,0,0])#crop_img_result[i][j].copy()\n",
    "for i in range(48,68):\n",
    "    print(i)\n",
    "    cv2.circle(img, center=tuple(shape_2d[i]), radius=1, color=(0, 0, 255), thickness=2, lineType=cv2.LINE_AA)\n",
    "\n",
    "img = img[:,:,::-1].copy()                       \n",
    "#(crop_img_s-crop_img_result)[:,:,0][i][j]>100 and (crop_img_s-crop_img_result)[:,:,1][i][j]<100: 입 안쪽\n",
    "cv2.imshow('test3',img)\n",
    "key = cv2.waitKey(0)\n",
    "cv2.destroyAllWindows()"
   ]
  },
  {
   "cell_type": "code",
   "execution_count": 224,
   "metadata": {},
   "outputs": [],
   "source": [
    "import seaborn as sns\n",
    "from pandas import DataFrame"
   ]
  },
  {
   "cell_type": "code",
   "execution_count": 518,
   "metadata": {},
   "outputs": [],
   "source": [
    "from collections import OrderedDict\n",
    "FACIAL_LANDMARKS_IDXS = OrderedDict([\n",
    "\t(\"mouth\", (48, 68)),\n",
    "\t(\"right_eyebrow\", (17, 22)),\n",
    "\t(\"left_eyebrow\", (22, 27)),\n",
    "\t(\"right_eye\", (36, 42)),\n",
    "\t(\"left_eye\", (42, 48)),\n",
    "\t#(\"nose\", (27, 35)),\n",
    "])\n",
    "faces = detector(img,1)\n",
    "face = faces1[0]\n",
    "dlib_shape = predictor(src_img,face1)\n",
    "shape = np.array([[p.x,p.y]for p in dlib_shape.parts()])"
   ]
  },
  {
   "cell_type": "code",
   "execution_count": 267,
   "metadata": {},
   "outputs": [],
   "source": []
  },
  {
   "cell_type": "code",
   "execution_count": 519,
   "metadata": {},
   "outputs": [],
   "source": [
    "def visualize_facial_landmarks(image, shape, colors=None, alpha=0.75):\n",
    "    # create two copies of the input image -- one for the\n",
    "    # overlay and one for the final output image\n",
    "    overlay = image.copy()\n",
    "    output = image.copy()\n",
    "    # if the colors list is None, initialize it with a unique\n",
    "    # color for each facial landmark region\n",
    "    if colors is None:\n",
    "        colors = [(19, 199, 109), (79, 76, 240), (230, 159, 23),\n",
    "            (168, 100, 168), (158, 163, 32),\n",
    "            (163, 38, 32), (180, 42, 220)]\n",
    "            # loop over the facial landmark regions individually\n",
    "    for (i, name) in enumerate(FACIAL_LANDMARKS_IDXS.keys()):\n",
    "        (j, k) = FACIAL_LANDMARKS_IDXS[name]\n",
    "        pts = shape[j:k]\n",
    "        if name == \"right_eye\":\n",
    "            hull = cv2.convexHull(pts)\n",
    "            hull2 = hull*2\n",
    "            center_a=0\n",
    "            for i in range(6):\n",
    "                center_a = center_a+hull[i]    \n",
    "            center_maker = center_a/6\n",
    "            center_maker = [[int(center_maker[0][0]),int(center_maker[0][1])]]\n",
    "            print(int(center_maker[0][0]),int(center_maker[0][1]))\n",
    "            hull2 = hull2-center_maker\n",
    "            cv2.drawContours(overlay, [hull], -1, colors[i], -1)\n",
    "            cv2.drawContours(overlay, [hull2], -1, colors[i], -1)\n",
    "        # otherwise, compute the convex hull of the facial\n",
    "        # landmark coordinates points and display it\n",
    "        else:\n",
    "            hull = cv2.convexHull(pts)\n",
    "            cv2.drawContours(overlay, [hull], -1, colors[i], -1)\n",
    "    cv2.addWeighted(overlay, alpha, output, 1 - alpha, 0, output)\n",
    "    # return the output image\n",
    "    return output"
   ]
  },
  {
   "cell_type": "code",
   "execution_count": 528,
   "metadata": {},
   "outputs": [],
   "source": [
    "cv2.imshow('test3',final_output)\n",
    "key = cv2.waitKey(0)\n",
    "cv2.destroyAllWindows()"
   ]
  },
  {
   "cell_type": "code",
   "execution_count": 536,
   "metadata": {},
   "outputs": [],
   "source": []
  },
  {
   "cell_type": "code",
   "execution_count": 540,
   "metadata": {},
   "outputs": [],
   "source": [
    "cv2.imshow('test3',global_result)\n",
    "key = cv2.waitKey(0)\n",
    "cv2.destroyAllWindows()"
   ]
  },
  {
   "cell_type": "code",
   "execution_count": null,
   "metadata": {},
   "outputs": [],
   "source": []
  }
 ],
 "metadata": {
  "kernelspec": {
   "display_name": "PyTorch",
   "language": "python",
   "name": "pytorch"
  },
  "language_info": {
   "codemirror_mode": {
    "name": "ipython",
    "version": 3
   },
   "file_extension": ".py",
   "mimetype": "text/x-python",
   "name": "python",
   "nbconvert_exporter": "python",
   "pygments_lexer": "ipython3",
   "version": "3.8.3"
  }
 },
 "nbformat": 4,
 "nbformat_minor": 4
}
