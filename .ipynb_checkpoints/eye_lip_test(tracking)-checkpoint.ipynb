{
 "cells": [
  {
   "cell_type": "code",
   "execution_count": 1,
   "metadata": {},
   "outputs": [
    {
     "name": "stdout",
     "output_type": "stream",
     "text": [
      "INFO:tensorflow:Restoring parameters from models\\model\n"
     ]
    }
   ],
   "source": [
    "import dlib\n",
    "import matplotlib.pyplot as plt\n",
    "import matplotlib.patches as patches\n",
    "#import tensorflow as tf\n",
    "import tensorflow.compat.v1 as tf\n",
    "import numpy as np\n",
    "detector = dlib.get_frontal_face_detector()\n",
    "sp = dlib.shape_predictor('shape_predictor_68_face_landmarks.dat')\n",
    "predictor = sp\n",
    "img = dlib.load_rgb_image('makeup3.jpg')\n",
    "img_result = img.copy()\n",
    "\n",
    "dets = detector(img, 1)\n",
    "\n",
    "if len(dets) == 0:\n",
    "    print('cannot find faces!')\n",
    "\n",
    "objs = dlib.full_object_detections()\n",
    "\n",
    "for detection in dets:\n",
    "    s = sp(img, detection)\n",
    "    objs.append(s)\n",
    "    \n",
    "    for point in s.parts():\n",
    "        circle = patches.Circle((point.x, point.y), radius=3, edgecolor='r', facecolor='r')\n",
    "def align_faces(img):\n",
    "    dets = detector(img, 1)\n",
    "    \n",
    "    objs = dlib.full_object_detections()\n",
    "\n",
    "    for detection in dets:\n",
    "        s = sp(img, detection)\n",
    "        objs.append(s)\n",
    "        \n",
    "    faces = dlib.get_face_chips(img, objs, size=256, padding=0.35)\n",
    "    \n",
    "    return faces\n",
    "sess = tf.Session()\n",
    "#sess.run(tf.global_variables_initializer())\n",
    "tf.disable_eager_execution()\n",
    "saver = tf.train.import_meta_graph('models/model.meta')\n",
    "saver.restore(sess, tf.train.latest_checkpoint('models'))\n",
    "graph = tf.get_default_graph()\n",
    "\n",
    "X = graph.get_tensor_by_name('X:0') # source\n",
    "Y = graph.get_tensor_by_name('Y:0') # reference\n",
    "Xs = graph.get_tensor_by_name('generator/xs:0') # output"
   ]
  },
  {
   "cell_type": "code",
   "execution_count": 2,
   "metadata": {},
   "outputs": [],
   "source": [
    "def preprocess(img):\n",
    "    return img.astype(np.float32) / 127.5 - 1.\n",
    "\n",
    "def postprocess(img):\n",
    "    return ((img + 1.) * 127.5).astype(np.uint8)"
   ]
  },
  {
   "cell_type": "code",
   "execution_count": 252,
   "metadata": {},
   "outputs": [],
   "source": [
    "######하이라이터###\n",
    "from collections import OrderedDict\n",
    "FACIAL_LANDMARKS_IDXS = OrderedDict([\n",
    "\t(\"mouth\", (48, 68)),\n",
    "\t#(\"right_eyebrow\", (17, 22)),\n",
    "\t#(\"left_eyebrow\", (22, 27)),\n",
    "\t(\"right_eye\", (36, 42)),\n",
    "\t(\"left_eye\", (42, 48)),\n",
    "\t#(\"nose\", (27, 35)),\n",
    "\t#(\"jaw\", (0, 17))\n",
    "])\n",
    "colors = [(0, 0, 0),(0,0,0),[0,0,0]]\n",
    "          #, (79, 76, 240), (230, 159, 23),\n",
    "          #  (168, 100, 168), (158, 163, 32),\n",
    "          #  (163, 38, 32), (180, 42, 220)]\n",
    "        \n",
    "def highligther(image, shape, colors, alpha=0.75):\n",
    "    overlay = image.copy()\n",
    "    output = image.copy()\n",
    "    for (i, name) in enumerate(FACIAL_LANDMARKS_IDXS.keys()):\n",
    "        (j, k) = FACIAL_LANDMARKS_IDXS[name]\n",
    "        pts = shape[j:k]\n",
    "        if name == \"mouth\": \n",
    "            hull = cv2.convexHull(pts)\n",
    "            cv2.drawContours(overlay, [hull], -1, colors[i], -1)\n",
    "        else:\n",
    "            hull = cv2.convexHull(pts)\n",
    "            hull2 = hull*3\n",
    "            center_a2=0\n",
    "            for j in range(len(hull)):\n",
    "                center_a2 = center_a2+hull[j]    \n",
    "            center_maker2 = center_a2/ len(hull)\n",
    "            center_maker2 = [[2*int(center_maker2[0][0]),2*int(center_maker2[0][1])]]\n",
    "\n",
    "            hull2 = hull2-center_maker2\n",
    "            cv2.drawContours(overlay, [hull], -1, colors[i], -1)\n",
    "            cv2.drawContours(overlay, [hull2], -1, colors[i], -1)\n",
    "    cv2.addWeighted(overlay, alpha, output, 1 - alpha, 0, output)\n",
    "    # return the output image\n",
    "    return output"
   ]
  },
  {
   "cell_type": "code",
   "execution_count": 254,
   "metadata": {},
   "outputs": [
    {
     "name": "stdout",
     "output_type": "stream",
     "text": [
      "(256, 256, 3)\n"
     ]
    }
   ],
   "source": [
    "#makeup 사진 \n",
    "img2 = dlib.load_rgb_image('eye1.jpg')\n",
    "img2_faces = align_faces(img2)\n",
    "ref_img = img2_faces[0]\n",
    "\n",
    "#실시간 동영상 frame\n",
    "import cv2\n",
    "cap = cv2.VideoCapture(0)\n",
    "cap.set(3,720)\n",
    "cap.set(4,1080)\n",
    "import time\n",
    "while True:\n",
    "    start = time.time()\n",
    "    ret, frame = cap.read()\n",
    "    frame = cv2.resize(frame,(int(256),int(256)))\n",
    "    temp = frame[:,:,::-1].copy()  #\n",
    "    dets = detector(temp, 1)\n",
    "    if len(dets) != 0:\n",
    "        temp_face = align_faces(temp)\n",
    "        src_img = temp_face[0]\n",
    "\n",
    "        X_img = preprocess(src_img)\n",
    "        X_img = np.expand_dims(X_img, axis=0)\n",
    "    \n",
    "        Y_img = preprocess(ref_img)\n",
    "        Y_img = np.expand_dims(Y_img, axis=0)\n",
    "    ###0.06초\n",
    "        output = sess.run(Xs, feed_dict={\n",
    "            X: X_img,\n",
    "            Y: Y_img\n",
    "        })\n",
    "        ###sess run이 오래 걸림....0.55초 정도->gpu(gtx 1080)은 약 11배 \n",
    "        output_img = postprocess(output[0])\n",
    "        final_output = output_img[:,:,::-1].copy()\n",
    "        \n",
    "        #src_img, output_img로 \n",
    "        faces1 = detector(src_img,1)\n",
    "        if len(faces1) !=0:\n",
    "            face1 = faces1[0]\n",
    "            dlib_shape = predictor(src_img,face1)\n",
    "            shape_2d = np.array([[p.x,p.y]for p in dlib_shape.parts()])\n",
    "            \n",
    "            eye_target_img = highligther(src_img,shape_2d,colors)\n",
    "            #lip_color = src_img[lip_col[0][1],lip_col[0][0]]\n",
    "            #color_dif = final_out[lip_col[0][1],lip_col[0][0]]-src_img[lip_col[0][1],lip_col[0][0]]\n",
    "            eye_x_l=shape_2d[36][0]-10\n",
    "            eye_y_l=shape_2d[38][1]-10\n",
    "            eye_x2_l=shape_2d[39][0]+10\n",
    "            eye_y2_l=shape_2d[41][1]+10\n",
    "\n",
    "            eye_x_r=shape_2d[42][0]-10\n",
    "            eye_y_r=shape_2d[44][1]-10\n",
    "            eye_x2_r=shape_2d[45][0]+10\n",
    "            eye_y2_r=shape_2d[46][1]+10\n",
    "            \n",
    "            lip_x=shape_2d[48][0]-10\n",
    "            lip_y=shape_2d[50][1]-10\n",
    "            lip_x2=shape_2d[54][0]+10\n",
    "            lip_y2=shape_2d[57][1]+10\n",
    "            \n",
    "            ######RGB 중 G 픽셀 값이 낮을 떄 ->살색이 아닐때를 옮기기############\n",
    "            crop_img_s_l = eye_target_img[eye_y_l:eye_y2_l,eye_x_l:eye_x2_l]\n",
    "            crop_img_s_r = eye_target_img[eye_y_r:eye_y2_r,eye_x_r:eye_x2_r]\n",
    "            crop_img_s = eye_target_img[lip_y:lip_y2,lip_x:lip_x2]\n",
    "            \n",
    "            crop_img_result = output_img[lip_y:lip_y2,lip_x:lip_x2]\n",
    "            crop_img_result_l = output_img[eye_y_l:eye_y2_l,eye_x_l:eye_x2_l]\n",
    "            crop_img_result_r = output_img[eye_y_r:eye_y2_r,eye_x_r:eye_x2_r]\n",
    "\n",
    "            img = output_img.copy()\n",
    "            for i in range(crop_img_s_l.shape[0]):\n",
    "                for j in range(crop_img_s_l.shape[1]):\n",
    "                    if (crop_img_s_l)[:,:,0][i][j]<40 and (crop_img_s_l)[:,:,1][i][j]<40 and (crop_img_s_l)[:,:,2][i][j]<40:\n",
    "                        img[eye_y_l:eye_y2_l,eye_x_l:eye_x2_l][i][j] = output_img[eye_y_l:eye_y2_l,eye_x_l:eye_x2_l][i][j] +([0,0,30])\n",
    "            \n",
    "            for i in range(crop_img_s_r.shape[0]):\n",
    "                for j in range(crop_img_s_r.shape[1]):\n",
    "                    if (crop_img_s_r)[:,:,0][i][j]<40 and (crop_img_s_r)[:,:,1][i][j]<40 and (crop_img_s_r)[:,:,2][i][j]<40:\n",
    "                        img[eye_y_r:eye_y2_r,eye_x_r:eye_x2_r][i][j] = output_img[eye_y_r:eye_y2_r,eye_x_r:eye_x2_r][i][j] +([0,0,30])\n",
    "            \n",
    "            for i in range(crop_img_s.shape[0]):\n",
    "                for j in range(crop_img_s.shape[1]):\n",
    "                    if (crop_img_s)[:,:,0][i][j]<100 and (crop_img_s)[:,:,1][i][j]<100 and (crop_img_s)[:,:,2][i][j]<100:\n",
    "                        img[lip_y:lip_y2,lip_x:lip_x2][i][j] = output_img[lip_y:lip_y2,lip_x:lip_x2][i][j] + ([30,0,0])\n",
    "            \n",
    "            \n",
    "            \n",
    "            final_out = img[:,:,::-1].copy()\n",
    "            cv2.imshow('new',final_out)\n",
    "\n",
    "        cv2.imshow('test',final_output)\n",
    "\n",
    "        key = cv2.waitKey(1)\n",
    "        #print(final_output.shape)\n",
    "        #print(time.time()-start)\n",
    "    else:\n",
    "        frame = cv2.resize(frame, (int(256), int(256)))\n",
    "        cv2.imshow('test2',frame)\n",
    "        key = cv2.waitKey(1)\n",
    "        #print(frame.shape)\n",
    "    if key==27:\n",
    "        print(frame.shape)   #480,640,3\n",
    "        break\n",
    "cap.release()\n",
    "cv2.destroyAllWindows()"
   ]
  },
  {
   "cell_type": "code",
   "execution_count": 219,
   "metadata": {},
   "outputs": [
    {
     "data": {
      "text/plain": [
       "array([ 90,  55, 242], dtype=uint8)"
      ]
     },
     "execution_count": 219,
     "metadata": {},
     "output_type": "execute_result"
    }
   ],
   "source": [
    "src_img[lip_col[0][1],lip_col[0][0]]-final_out[lip_col[0][1],lip_col[0][0]]"
   ]
  },
  {
   "cell_type": "code",
   "execution_count": 213,
   "metadata": {},
   "outputs": [],
   "source": [
    "cv2.imshow('test3',final_out)\n",
    "key = cv2.waitKey(0)\n",
    "cv2.destroyAllWindows()"
   ]
  },
  {
   "cell_type": "code",
   "execution_count": 239,
   "metadata": {},
   "outputs": [
    {
     "data": {
      "text/plain": [
       "array([181, 151, 137], dtype=uint8)"
      ]
     },
     "execution_count": 239,
     "metadata": {},
     "output_type": "execute_result"
    }
   ],
   "source": [
    "src_img[lip_col[0][1],lip_col[0][0]]"
   ]
  },
  {
   "cell_type": "code",
   "execution_count": 238,
   "metadata": {},
   "outputs": [
    {
     "data": {
      "text/plain": [
       "array([218, 178, 161], dtype=uint8)"
      ]
     },
     "execution_count": 238,
     "metadata": {},
     "output_type": "execute_result"
    }
   ],
   "source": [
    "final_out[lip_col[0][1],lip_col[0][0]]"
   ]
  },
  {
   "cell_type": "code",
   "execution_count": null,
   "metadata": {},
   "outputs": [],
   "source": []
  },
  {
   "cell_type": "code",
   "execution_count": null,
   "metadata": {},
   "outputs": [],
   "source": []
  }
 ],
 "metadata": {
  "kernelspec": {
   "display_name": "PyTorch",
   "language": "python",
   "name": "pytorch"
  },
  "language_info": {
   "codemirror_mode": {
    "name": "ipython",
    "version": 3
   },
   "file_extension": ".py",
   "mimetype": "text/x-python",
   "name": "python",
   "nbconvert_exporter": "python",
   "pygments_lexer": "ipython3",
   "version": "3.8.3"
  }
 },
 "nbformat": 4,
 "nbformat_minor": 4
}
