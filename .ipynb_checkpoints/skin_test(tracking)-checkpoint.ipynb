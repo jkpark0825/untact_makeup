{
 "cells": [
  {
   "cell_type": "code",
   "execution_count": 19,
   "metadata": {},
   "outputs": [
    {
     "name": "stdout",
     "output_type": "stream",
     "text": [
      "INFO:tensorflow:Restoring parameters from models\\model\n"
     ]
    }
   ],
   "source": [
    "import dlib\n",
    "import matplotlib.pyplot as plt\n",
    "import matplotlib.patches as patches\n",
    "#import tensorflow as tf\n",
    "import tensorflow.compat.v1 as tf\n",
    "import numpy as np\n",
    "import time\n",
    "detector = dlib.get_frontal_face_detector()\n",
    "sp = dlib.shape_predictor('shape_predictor_68_face_landmarks.dat')\n",
    "predictor = sp\n",
    "img = dlib.load_rgb_image('makeup3.jpg')\n",
    "img_result = img.copy()\n",
    "\n",
    "dets = detector(img, 1)\n",
    "\n",
    "if len(dets) == 0:\n",
    "    print('cannot find faces!')\n",
    "\n",
    "objs = dlib.full_object_detections()\n",
    "\n",
    "for detection in dets:\n",
    "    s = sp(img, detection)\n",
    "    objs.append(s)\n",
    "    \n",
    "    for point in s.parts():\n",
    "        circle = patches.Circle((point.x, point.y), radius=3, edgecolor='r', facecolor='r')\n",
    "def align_faces(img):\n",
    "    dets = detector(img, 1)\n",
    "    \n",
    "    objs = dlib.full_object_detections()\n",
    "\n",
    "    for detection in dets:\n",
    "        s = sp(img, detection)\n",
    "        objs.append(s)\n",
    "        \n",
    "    faces = dlib.get_face_chips(img, objs, size=256, padding=0.35)\n",
    "    \n",
    "    return faces\n",
    "sess = tf.Session()\n",
    "#sess.run(tf.global_variables_initializer())\n",
    "tf.disable_eager_execution()\n",
    "saver = tf.train.import_meta_graph('models/model.meta')\n",
    "saver.restore(sess, tf.train.latest_checkpoint('models'))\n",
    "graph = tf.get_default_graph()\n",
    "\n",
    "X = graph.get_tensor_by_name('X:0') # source\n",
    "Y = graph.get_tensor_by_name('Y:0') # reference\n",
    "Xs = graph.get_tensor_by_name('generator/xs:0') # output"
   ]
  },
  {
   "cell_type": "code",
   "execution_count": 20,
   "metadata": {},
   "outputs": [],
   "source": [
    "def preprocess(img):\n",
    "    return img.astype(np.float32) / 127.5 - 1.\n",
    "\n",
    "def postprocess(img):\n",
    "    return ((img + 1.) * 127.5).astype(np.uint8)"
   ]
  },
  {
   "cell_type": "code",
   "execution_count": 52,
   "metadata": {},
   "outputs": [],
   "source": [
    "from collections import OrderedDict\n",
    "FACIAL_LANDMARKS_IDXS = OrderedDict([\n",
    "\t(\"face\", (0, 68))\n",
    "])\n",
    "colors = [(0, 0, 0)]\n",
    "          #, (79, 76, 240), (230, 159, 23),\n",
    "          #  (168, 100, 168), (158, 163, 32),\n",
    "          #  (163, 38, 32), (180, 42, 220)]\n",
    "        \n",
    "def highligther(image, shape, colors, alpha=0.75):\n",
    "    overlay = image.copy()\n",
    "    output = image.copy()\n",
    "    for (i, name) in enumerate(FACIAL_LANDMARKS_IDXS.keys()):\n",
    "        (j, k) = FACIAL_LANDMARKS_IDXS[name]\n",
    "        pts = shape[j:k]\n",
    "\n",
    "        hull = cv2.convexHull(pts)\n",
    "        cv2.drawContours(overlay, [hull], -1, colors[i], -1)\n",
    "    cv2.addWeighted(overlay, alpha, output, 1 - alpha, 0, output)\n",
    "    # return the output image\n",
    "    return output"
   ]
  },
  {
   "cell_type": "code",
   "execution_count": 39,
   "metadata": {},
   "outputs": [],
   "source": [
    "def skin_detector(output):\n",
    "    img= final_output\n",
    "    img_HSV = cv2.cvtColor(img, cv2.COLOR_BGR2HSV)\n",
    "    HSV_mask = cv2.inRange(img_HSV, (0, 15, 0), (17,170,255)) \n",
    "    HSV_mask = cv2.morphologyEx(HSV_mask, cv2.MORPH_OPEN, np.ones((3,3), np.uint8))\n",
    "\n",
    "    img_YCrCb = cv2.cvtColor(img, cv2.COLOR_BGR2YCrCb)\n",
    "    YCrCb_mask = cv2.inRange(img_YCrCb, (0, 135, 85), (255,180,135)) \n",
    "    YCrCb_mask = cv2.morphologyEx(YCrCb_mask, cv2.MORPH_OPEN, np.ones((3,3), np.uint8))\n",
    "\n",
    "    global_mask=cv2.bitwise_and(YCrCb_mask,HSV_mask)\n",
    "    global_mask=cv2.medianBlur(global_mask,3)\n",
    "    global_mask = cv2.morphologyEx(global_mask, cv2.MORPH_OPEN, np.ones((4,4), np.uint8))\n",
    "\n",
    "\n",
    "    HSV_result = cv2.bitwise_not(HSV_mask)\n",
    "    YCrCb_result = cv2.bitwise_not(YCrCb_mask)\n",
    "    global_result=cv2.bitwise_not(global_mask)\n",
    "    return HSV_result,YCrCb_result,global_result"
   ]
  },
  {
   "cell_type": "code",
   "execution_count": 57,
   "metadata": {},
   "outputs": [
    {
     "name": "stdout",
     "output_type": "stream",
     "text": [
      "(256, 256, 3)\n"
     ]
    }
   ],
   "source": [
    "#makeup 사진 \n",
    "#실시간 동영상 frame\n",
    "import cv2\n",
    "cap = cv2.VideoCapture(0)\n",
    "cap.set(3,720)\n",
    "cap.set(4,1080)\n",
    "import time\n",
    "while True:\n",
    "    start = time.time()\n",
    "    ret, frame = cap.read()\n",
    "    frame = cv2.resize(frame,(int(256),int(256)))\n",
    "    temp = frame[:,:,::-1].copy()  #\n",
    "    dets = detector(temp, 1)\n",
    "    if len(dets) != 0:\n",
    "        temp_face = align_faces(temp)\n",
    "        src_img = temp_face[0]\n",
    "        ref_img = src_img\n",
    "        X_img = preprocess(src_img)\n",
    "        X_img = np.expand_dims(X_img, axis=0)\n",
    "    \n",
    "        Y_img = preprocess(ref_img)\n",
    "        Y_img = np.expand_dims(Y_img, axis=0)\n",
    "    ###0.06초\n",
    "        output = sess.run(Xs, feed_dict={\n",
    "            X: X_img,\n",
    "            Y: Y_img\n",
    "        })\n",
    "        ###sess run이 오래 걸림....0.55초 정도->gpu(gtx 1080)은 약 11배 \n",
    "        output_img = postprocess(output[0])\n",
    "        final_output = output_img[:,:,::-1].copy()\n",
    "        #src_img, output_img로 \n",
    "        faces1 = detector(src_img,1)\n",
    "        if len(faces1) !=0:\n",
    "            face1 = faces1[0]\n",
    "            dlib_shape = predictor(src_img,face1)\n",
    "            shape_2d = np.array([[p.x,p.y]for p in dlib_shape.parts()])\n",
    "            \n",
    "            face_target_img = highligther(src_img,shape_2d,colors)\n",
    "            \n",
    "            img = src_img.copy()\n",
    "            for i in range(img.shape[0]):\n",
    "                for j in range(img.shape[1]):\n",
    "                    if face_target_img[i][j][0]<100 and face_target_img[i][j][1]<100 and face_target_img[i][j][2]<100:\n",
    "                        img[i][j] = output_img[i][j] +([0,0,30])\n",
    "            \n",
    "            final_out = img[:,:,::-1].copy()\n",
    "            cv2.imshow('new',final_out)\n",
    "\n",
    "        cv2.imshow('test',final_output)\n",
    "        key = cv2.waitKey(1)\n",
    "        #print(final_output.shape)\n",
    "        #print(time.time()-start)\n",
    "    else:\n",
    "        frame = cv2.resize(frame, (int(256), int(256)))\n",
    "        cv2.imshow('test2',frame)\n",
    "        key = cv2.waitKey(1)\n",
    "        #print(frame.shape)\n",
    "    if key==27:\n",
    "        print(frame.shape)   #480,640,3\n",
    "        break\n",
    "cap.release()\n",
    "cv2.destroyAllWindows()"
   ]
  },
  {
   "cell_type": "code",
   "execution_count": 55,
   "metadata": {},
   "outputs": [],
   "source": [
    "cv2.imshow('test3',face_target_img)\n",
    "key = cv2.waitKey(0)\n",
    "cv2.destroyAllWindows()"
   ]
  },
  {
   "cell_type": "code",
   "execution_count": 56,
   "metadata": {},
   "outputs": [
    {
     "data": {
      "text/plain": [
       "(256, 256, 3)"
      ]
     },
     "execution_count": 56,
     "metadata": {},
     "output_type": "execute_result"
    }
   ],
   "source": [
    "face_target_img.shape"
   ]
  }
 ],
 "metadata": {
  "kernelspec": {
   "display_name": "PyTorch",
   "language": "python",
   "name": "pytorch"
  },
  "language_info": {
   "codemirror_mode": {
    "name": "ipython",
    "version": 3
   },
   "file_extension": ".py",
   "mimetype": "text/x-python",
   "name": "python",
   "nbconvert_exporter": "python",
   "pygments_lexer": "ipython3",
   "version": "3.8.3"
  }
 },
 "nbformat": 4,
 "nbformat_minor": 4
}
