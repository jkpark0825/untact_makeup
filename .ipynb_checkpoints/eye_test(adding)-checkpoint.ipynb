{
 "cells": [
  {
   "cell_type": "code",
   "execution_count": 2,
   "metadata": {},
   "outputs": [
    {
     "name": "stdout",
     "output_type": "stream",
     "text": [
      "INFO:tensorflow:Restoring parameters from models\\model\n"
     ]
    }
   ],
   "source": [
    "import dlib\n",
    "import matplotlib.pyplot as plt\n",
    "import matplotlib.patches as patches\n",
    "#import tensorflow as tf\n",
    "import tensorflow.compat.v1 as tf\n",
    "import numpy as np\n",
    "detector = dlib.get_frontal_face_detector()\n",
    "sp = dlib.shape_predictor('shape_predictor_68_face_landmarks.dat')\n",
    "predictor = sp\n",
    "img = dlib.load_rgb_image('makeup3.jpg')\n",
    "img_result = img.copy()\n",
    "\n",
    "dets = detector(img, 1)\n",
    "\n",
    "if len(dets) == 0:\n",
    "    print('cannot find faces!')\n",
    "\n",
    "objs = dlib.full_object_detections()\n",
    "\n",
    "for detection in dets:\n",
    "    s = sp(img, detection)\n",
    "    objs.append(s)\n",
    "    \n",
    "    for point in s.parts():\n",
    "        circle = patches.Circle((point.x, point.y), radius=3, edgecolor='r', facecolor='r')\n",
    "def align_faces(img):\n",
    "    dets = detector(img, 1)\n",
    "    \n",
    "    objs = dlib.full_object_detections()\n",
    "\n",
    "    for detection in dets:\n",
    "        s = sp(img, detection)\n",
    "        objs.append(s)\n",
    "        \n",
    "    faces = dlib.get_face_chips(img, objs, size=256, padding=0.35)\n",
    "    \n",
    "    return faces\n",
    "sess = tf.Session()\n",
    "#sess.run(tf.global_variables_initializer())\n",
    "tf.disable_eager_execution()\n",
    "saver = tf.train.import_meta_graph('models/model.meta')\n",
    "saver.restore(sess, tf.train.latest_checkpoint('models'))\n",
    "graph = tf.get_default_graph()\n",
    "\n",
    "X = graph.get_tensor_by_name('X:0') # source\n",
    "Y = graph.get_tensor_by_name('Y:0') # reference\n",
    "Xs = graph.get_tensor_by_name('generator/xs:0') # output"
   ]
  },
  {
   "cell_type": "code",
   "execution_count": 3,
   "metadata": {},
   "outputs": [],
   "source": [
    "def preprocess(img):\n",
    "    return img.astype(np.float32) / 127.5 - 1.\n",
    "\n",
    "def postprocess(img):\n",
    "    return ((img + 1.) * 127.5).astype(np.uint8)"
   ]
  },
  {
   "cell_type": "code",
   "execution_count": null,
   "metadata": {},
   "outputs": [],
   "source": []
  },
  {
   "cell_type": "code",
   "execution_count": 62,
   "metadata": {},
   "outputs": [
    {
     "name": "stdout",
     "output_type": "stream",
     "text": [
      "(256, 256, 3)\n"
     ]
    }
   ],
   "source": [
    "#makeup 사진 \n",
    "img2 = dlib.load_rgb_image('eye3.jpg')\n",
    "img2_faces = align_faces(img2)\n",
    "ref_img = img2_faces[0]\n",
    "faces1 = detector(ref_img,1)\n",
    "face1 = faces1[0]\n",
    "dlib_shape = predictor(ref_img,face1)\n",
    "shape_2d = np.array([[p.x,p.y]for p in dlib_shape.parts()])\n",
    "eye_x_l=shape_2d[36][0]-15\n",
    "eye_y_l=shape_2d[38][1]-15\n",
    "eye_x2_l=shape_2d[39][0]+15\n",
    "eye_y2_l=shape_2d[41][1]+15\n",
    "\n",
    "eye_x_r=shape_2d[42][0]-15\n",
    "eye_y_r=shape_2d[44][1]-15\n",
    "eye_x2_r=shape_2d[45][0]+15\n",
    "eye_y2_r=shape_2d[46][1]+15\n",
    "\n",
    "#실시간 동영상 frame\n",
    "import cv2\n",
    "cap = cv2.VideoCapture(0)\n",
    "cap.set(3,720)\n",
    "cap.set(4,1080)\n",
    "import time\n",
    "while True:\n",
    "    start = time.time()\n",
    "    ret, frame = cap.read()\n",
    "    frame = cv2.resize(frame,(int(256),int(256)))\n",
    "    temp = frame[:,:,::-1].copy()  #\n",
    "    dets = detector(temp, 1)\n",
    "    if len(dets) != 0:\n",
    "        temp_face = align_faces(temp)\n",
    "        src_img = temp_face[0]\n",
    "\n",
    "        X_img = preprocess(src_img)\n",
    "        X_img = np.expand_dims(X_img, axis=0)\n",
    "    \n",
    "        ###sess run이 오래 걸림....0.55초 정도->gpu(gtx 1080)은 약 11배 \n",
    "        \n",
    "        #src_img, output_img로 \n",
    "        faces1 = detector(src_img,1)\n",
    "        if len(faces1) !=0:\n",
    "            face1 = faces1[0]\n",
    "            dlib_shape2 = predictor(src_img,face1)\n",
    "            shape_2d2 = np.array([[p.x,p.y]for p in dlib_shape2.parts()])\n",
    "            eye2_x_l=shape_2d2[36][0]-15\n",
    "            eye2_y_l=shape_2d2[38][1]-15\n",
    "            eye2_x2_l=shape_2d2[39][0]+15\n",
    "            eye2_y2_l=shape_2d2[41][1]+15\n",
    "\n",
    "            eye2_x_r=shape_2d2[42][0]-15\n",
    "            eye2_y_r=shape_2d2[44][1]-15\n",
    "            eye2_x2_r=shape_2d2[45][0]+15\n",
    "            eye2_y2_r=shape_2d2[46][1]+15\n",
    "            \n",
    "            ######아예 새로운img만들기########\n",
    "            \n",
    "            img = src_img.copy()\n",
    "            img[eye2_y_l:eye2_y2_l,eye2_x_l:eye2_x2_l] = cv2.resize(ref_img[eye_y_l:eye_y2_l,eye_x_l:eye_x2_l],(int(img[eye2_y_l:eye2_y2_l,eye2_x_l:eye2_x2_l].shape[1]),int(img[eye2_y_l:eye2_y2_l,eye2_x_l:eye2_x2_l].shape[0])))\n",
    "            img[eye2_y_r:eye2_y2_r,eye2_x_r:eye2_x2_r] = cv2.resize(ref_img[eye_y_r:eye_y2_r,eye_x_r:eye_x2_r],(int(img[eye2_y_r:eye2_y2_r,eye2_x_r:eye2_x2_r].shape[1]),int(img[eye2_y_r:eye2_y2_r,eye2_x_r:eye2_x2_r].shape[0])))\n",
    "            #img = img[:,:,::-1].copy()\n",
    "            Y_img = preprocess(img)\n",
    "            Y_img = np.expand_dims(Y_img, axis=0)\n",
    "        ###0.06초\n",
    "            output = sess.run(Xs, feed_dict={\n",
    "                X: X_img,\n",
    "                Y: Y_img\n",
    "            })\n",
    "            output_img = postprocess(output[0])\n",
    "            final_output = output_img[:,:,::-1].copy()\n",
    "            cv2.imshow('test',final_output)\n",
    "            \n",
    "            #그냥 화면\n",
    "            Y_img = preprocess(src_img)\n",
    "            Y_img = np.expand_dims(Y_img, axis=0)\n",
    "            output = sess.run(Xs, feed_dict={\n",
    "                X: X_img,\n",
    "                Y: Y_img\n",
    "            })\n",
    "            output_img = postprocess(output[0])\n",
    "            final_output = output_img[:,:,::-1].copy()\n",
    "            cv2.imshow('test2',final_output)\n",
    "\n",
    "        key = cv2.waitKey(1)\n",
    "        #print(final_output.shape)\n",
    "        #print(time.time()-start)\n",
    "    else:\n",
    "        frame = cv2.resize(frame, (int(256), int(256)))\n",
    "        cv2.imshow('test2',frame)\n",
    "        key = cv2.waitKey(1)\n",
    "        #print(frame.shape)\n",
    "    if key==27:\n",
    "        print(frame.shape)   #480,640,3\n",
    "        break\n",
    "cap.release()\n",
    "cv2.destroyAllWindows()"
   ]
  },
  {
   "cell_type": "code",
   "execution_count": 26,
   "metadata": {},
   "outputs": [],
   "source": [
    "img2 = dlib.load_rgb_image('makeup5.jpg')\n",
    "img2_faces = align_faces(img2)\n",
    "ref_img = img2_faces[0]\n",
    "faces1 = detector(ref_img,1)\n",
    "face1 = faces1[0]\n",
    "dlib_shape = predictor(ref_img,face1)\n",
    "shape_2d = np.array([[p.x,p.y]for p in dlib_shape.parts()])\n",
    "lip_x=shape_2d[48][0]-10\n",
    "lip_y=shape_2d[50][1]-10\n",
    "lip_x2=shape_2d[54][0]+10\n",
    "lip_y2=shape_2d[57][1]+10\n",
    "crop_img_r = ref_img[lip_y:lip_y2,lip_x:lip_x2]"
   ]
  },
  {
   "cell_type": "code",
   "execution_count": 39,
   "metadata": {},
   "outputs": [],
   "source": [
    "dlib_shape2 = predictor(src_img,face1)\n",
    "shape_2d2 = np.array([[p.x,p.y]for p in dlib_shape2.parts()])\n",
    "lip2_x=shape_2d[48][0]-10\n",
    "lip2_y=shape_2d[50][1]-10\n",
    "lip2_x2=shape_2d[54][0]+10\n",
    "lip2_y2=shape_2d[57][1]+10\n",
    "crop_img_s = src_img[lip2_y:lip2_y2,lip2_x:lip2_x2]\n",
    "\n",
    "crop_img_r = cv2.resize(frame,(int(crop_img_s.shape[1]),int(crop_img_s.shape[0])))"
   ]
  },
  {
   "cell_type": "code",
   "execution_count": 61,
   "metadata": {},
   "outputs": [],
   "source": [
    "cv2.imshow('test3',img)\n",
    "key = cv2.waitKey(0)\n",
    "cv2.destroyAllWindows()"
   ]
  },
  {
   "cell_type": "code",
   "execution_count": 40,
   "metadata": {},
   "outputs": [],
   "source": [
    "img2 = src_img.copy()\n",
    "img2[lip2_y:lip2_y2,lip2_x:lip2_x2] = ref_img[lip_y:lip_y2,lip_x:lip_x2]"
   ]
  },
  {
   "cell_type": "code",
   "execution_count": 47,
   "metadata": {},
   "outputs": [],
   "source": [
    "s=cv2.resize(ref_img[eye_y_l:eye_y2_l,eye_x_l:eye_x2_l],(int(crop_img_s_l.shape[1]),int(crop_img_s_l.shape[0])))"
   ]
  },
  {
   "cell_type": "code",
   "execution_count": 48,
   "metadata": {},
   "outputs": [
    {
     "data": {
      "text/plain": [
       "(34, 54, 3)"
      ]
     },
     "execution_count": 48,
     "metadata": {},
     "output_type": "execute_result"
    }
   ],
   "source": [
    "s.shape"
   ]
  },
  {
   "cell_type": "code",
   "execution_count": 49,
   "metadata": {},
   "outputs": [
    {
     "data": {
      "text/plain": [
       "(30, 48, 3)"
      ]
     },
     "execution_count": 49,
     "metadata": {},
     "output_type": "execute_result"
    }
   ],
   "source": [
    "img[eye2_y_l:eye2_y2_l,eye2_x_l:eye2_x2_l].shape"
   ]
  }
 ],
 "metadata": {
  "kernelspec": {
   "display_name": "PyTorch",
   "language": "python",
   "name": "pytorch"
  },
  "language_info": {
   "codemirror_mode": {
    "name": "ipython",
    "version": 3
   },
   "file_extension": ".py",
   "mimetype": "text/x-python",
   "name": "python",
   "nbconvert_exporter": "python",
   "pygments_lexer": "ipython3",
   "version": "3.8.3"
  }
 },
 "nbformat": 4,
 "nbformat_minor": 4
}
